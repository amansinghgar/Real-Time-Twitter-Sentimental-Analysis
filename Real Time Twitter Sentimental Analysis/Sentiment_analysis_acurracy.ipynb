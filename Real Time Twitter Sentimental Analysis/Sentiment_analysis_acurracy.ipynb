{
 "cells": [
  {
   "cell_type": "code",
   "execution_count": 1,
   "metadata": {},
   "outputs": [],
   "source": [
    "import json\n",
    "import sys\n",
    "import pandas as pd\n",
    "import numpy as np\n",
    "from sklearn import metrics\n",
    "\n",
    "from sklearn.model_selection import train_test_split # function for splitting data to train and test sets\n",
    "\n",
    "from sklearn.feature_extraction.text import TfidfVectorizer\n",
    "\n",
    "from sklearn.svm import SVC, LinearSVC\n",
    "from sklearn.naive_bayes import MultinomialNB\n",
    "from sklearn.linear_model import LogisticRegression\n"
   ]
  },
  {
   "cell_type": "code",
   "execution_count": 2,
   "metadata": {},
   "outputs": [],
   "source": [
    "#mypath = r'C:\\Users\\hsong01\\nltk_data\\corpora\\twitter_samples\\\\'\n",
    "#decoding each line in positive tweets json file and appending it to the list\n",
    "pos = []\n",
    "for line in open ('positive_tweets.json', 'r'):\n",
    "    pos.append(json.loads(line))\n",
    "\n",
    "#decoding each line in negative tweets json file and appending it to the list\n",
    "neg = []\n",
    "for line in open ('negative_tweets.json', 'r'):\n",
    "    neg.append(json.loads(line))\n",
    "\n"
   ]
  },
  {
   "cell_type": "code",
   "execution_count": 3,
   "metadata": {},
   "outputs": [],
   "source": [
    "colname = [\"text\"]\n",
    "#Creating a 2-dimention list of positive tweets\n",
    "df0 = []\n",
    "for dic in pos:\n",
    "    ll = []\n",
    "    for c in colname:\n",
    "        ll.append(dic[c])\n",
    "    df0.append(ll)\n",
    "\n",
    "#Creating a 2-dimention list of positive tweets\n",
    "df1 = []\n",
    "for dic in neg:\n",
    "    ll = []\n",
    "    for c in colname:\n",
    "        ll.append(dic[c])\n",
    "    df1.append(ll)"
   ]
  },
  {
   "cell_type": "code",
   "execution_count": 4,
   "metadata": {},
   "outputs": [],
   "source": [
    "#Converting the positive sentiment data into dataframe of pandas\n",
    "df0 = pd.DataFrame(df0, columns = colname)\n",
    "#Adding the column to set the dataframe of positive sentiments as 1\n",
    "df0[\"pos_or_neg\"] = 1\n",
    "\n",
    "#Converting the negative sentiment data into data frame of pandas\n",
    "df1 = pd.DataFrame(df1, columns = colname)\n",
    "#Adding the column to set the dataframe of negative sentiments as 0\n",
    "df1[\"pos_or_neg\"] = 0\n",
    "\n",
    "#Concatanating the positive and negative sentiment dataframe to a single data frame\n",
    "df = pd.concat([df0, df1], axis = 0, ignore_index = True)"
   ]
  },
  {
   "cell_type": "code",
   "execution_count": 5,
   "metadata": {},
   "outputs": [],
   "source": [
    "#Dividing the dataset into test and taining\n",
    "train_X,test_X,train_y,test_y = train_test_split(df.drop(['pos_or_neg'],axis=1) , df['pos_or_neg'] , test_size = 0.6)"
   ]
  },
  {
   "cell_type": "code",
   "execution_count": 6,
   "metadata": {},
   "outputs": [],
   "source": [
    "#Converting the tweets into list of tweets as transform() should be applied to list of strings\n",
    "test_X=list(test_X.text)"
   ]
  },
  {
   "cell_type": "code",
   "execution_count": 7,
   "metadata": {},
   "outputs": [],
   "source": [
    "#Creatig an object of TF-IDF (Term Frequency-Inverse Document Frequency)\n",
    "vectorizer = TfidfVectorizer(min_df = 3, use_idf = True)  \n",
    "train_X = vectorizer.fit_transform(train_X.text)\n",
    "\n",
    "test_X = vectorizer.transform(test_X)"
   ]
  },
  {
   "cell_type": "code",
   "execution_count": 10,
   "metadata": {},
   "outputs": [
    {
     "name": "stdout",
     "output_type": "stream",
     "text": [
      "naive bayes =  74.75\n",
      "SVC =  49.266666666666666\n",
      "Linear SVC =  73.75\n",
      "logistic regression =  75.4\n"
     ]
    }
   ],
   "source": [
    "###Finding the accuracy of naive bayes, SVC, Linear SVC, Logistic Regression\n",
    "\n",
    "## naive bayesian classifier\n",
    "#Creating the classifier\n",
    "clf_nb = MultinomialNB().fit(train_X, train_y)\n",
    "#Predicting the values\n",
    "prediction = clf_nb.predict(test_X)\n",
    "#Changing the prediction format to pandas format to apply the accuracy function\n",
    "predictio_pd = pd.DataFrame(prediction)\n",
    "#Finding the accuracy\n",
    "accuracy = metrics.accuracy_score(test_y,prediction)\n",
    "print(\"naive bayes = \",accuracy*100)\n",
    "\n",
    "## SVC classifier\n",
    "#Creating the classifier\n",
    "clf_svc = SVC().fit(train_X, train_y)\n",
    "#Predicting the values\n",
    "prediction = clf_svc.predict(test_X)\n",
    "#Changing the prediction format to pandas format to apply the accuracy function\n",
    "predictio_pd = pd.DataFrame(prediction)\n",
    "#Finding the accuracy\n",
    "accuracy = metrics.accuracy_score(test_y,prediction)\n",
    "print(\"SVC = \",accuracy*100)\n",
    "\n",
    "## linear svc classifier\n",
    "#Creating the classifier\n",
    "clf_linsvc = LinearSVC().fit(train_X, train_y)\n",
    "#Predicting the values\n",
    "prediction = clf_linsvc.predict(test_X)\n",
    "#Changing the prediction format to pandas format to apply the accuracy function\n",
    "predictio_pd = pd.DataFrame(prediction)\n",
    "#Finding the accuracy\n",
    "accuracy = metrics.accuracy_score(test_y,prediction)\n",
    "print(\"Linear SVC = \",accuracy*100)\n",
    "\n",
    "## logistic regression classifier\n",
    "#Creating the classifier\n",
    "clf_loigt = LogisticRegression().fit(train_X, train_y)\n",
    "#Predicting the values\n",
    "prediction = clf_loigt.predict(test_X)\n",
    "#Changing the prediction format to pandas format to apply the accuracy function\n",
    "predictio_pd = pd.DataFrame(prediction)\n",
    "accuracy = metrics.accuracy_score(test_y,prediction)\n",
    "print(\"logistic regression = \",accuracy*100)\n"
   ]
  },
  {
   "cell_type": "code",
   "execution_count": null,
   "metadata": {},
   "outputs": [],
   "source": []
  },
  {
   "cell_type": "code",
   "execution_count": null,
   "metadata": {},
   "outputs": [],
   "source": []
  }
 ],
 "metadata": {
  "kernelspec": {
   "display_name": "Python 3",
   "language": "python",
   "name": "python3"
  },
  "language_info": {
   "codemirror_mode": {
    "name": "ipython",
    "version": 3
   },
   "file_extension": ".py",
   "mimetype": "text/x-python",
   "name": "python",
   "nbconvert_exporter": "python",
   "pygments_lexer": "ipython3",
   "version": "3.6.5"
  }
 },
 "nbformat": 4,
 "nbformat_minor": 2
}
